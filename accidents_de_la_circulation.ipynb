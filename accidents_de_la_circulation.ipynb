{
 "cells": [
  {
   "cell_type": "code",
   "execution_count": 3,
   "metadata": {},
   "outputs": [],
   "source": [
    "from pyspark import SparkContext\n",
    "from pyspark.sql import SparkSession\n",
    "import pandas as pd\n",
    "import seaborn as sns\n",
    "import matplotlib.pyplot as plt\n",
    "import plotly.express as px\n",
    "import warnings\n",
    "warnings.filterwarnings(\"ignore\")"
   ]
  },
  {
   "cell_type": "code",
   "execution_count": 4,
   "metadata": {},
   "outputs": [
    {
     "name": "stderr",
     "output_type": "stream",
     "text": [
      "Setting default log level to \"WARN\".\n",
      "To adjust logging level use sc.setLogLevel(newLevel). For SparkR, use setLogLevel(newLevel).\n"
     ]
    },
    {
     "name": "stdout",
     "output_type": "stream",
     "text": [
      "22/11/18 13:52:17 WARN NativeCodeLoader: Unable to load native-hadoop library for your platform... using builtin-java classes where applicable\n"
     ]
    }
   ],
   "source": [
    "spark = SparkSession.builder.master(\"local[4]\").getOrCreate()"
   ]
  },
  {
   "cell_type": "markdown",
   "metadata": {},
   "source": [
    "#### Importation des données"
   ]
  },
  {
   "cell_type": "code",
   "execution_count": 5,
   "metadata": {},
   "outputs": [],
   "source": [
    "rdd_crct = spark.sparkContext.textFile('accidents/caracteristiques*.csv')\n",
    "rdd_usg = spark.sparkContext.textFile('accidents/usagers*.csv')\n",
    "rdd_lieux = spark.sparkContext.textFile('accidents/lieux*.csv')\n",
    "rdd_vhc = spark.sparkContext.textFile('accidents/vehicules*.csv')"
   ]
  },
  {
   "cell_type": "markdown",
   "metadata": {},
   "source": [
    "#### Extraction des noms des colonnes avec la méthode first()"
   ]
  },
  {
   "cell_type": "code",
   "execution_count": 6,
   "metadata": {},
   "outputs": [
    {
     "name": "stderr",
     "output_type": "stream",
     "text": [
      "                                                                                \r"
     ]
    }
   ],
   "source": [
    "head_crct = rdd_crct.first()\n",
    "head_usg = rdd_usg.first()\n",
    "head_vhc = rdd_vhc.first()\n",
    "head_lieux = rdd_lieux.first()"
   ]
  },
  {
   "cell_type": "markdown",
   "metadata": {},
   "source": [
    "# Nombre de morts par tranche d'âge et par sexe"
   ]
  },
  {
   "cell_type": "markdown",
   "metadata": {},
   "source": [
    "#### Création d'une fonction qui compte le nombre de morts pour chaque tranche d'âge et qui prend en compte le sexe"
   ]
  },
  {
   "cell_type": "markdown",
   "metadata": {},
   "source": [
    "La fonction traite le rdd usagers et prend en entrée l'année et le sexe.\n",
    "1) enlève tous les premières lignes de chaque fichier\n",
    "2) sélèctionne les colonnes utiles à l'analyse (Numéro d'accidents, gravité, sexe, année de naissance)\n",
    "3) extrait l'année de l'accident en prenant les 4 premières caractères de chaque élément de la colonne\n",
    "4) filtre tous les accidents mortels ('grav' == 2)\n",
    "5) filtre le sexe (1 ou 2)\n",
    "6) enlève les années de naissance non répértoriées\n",
    "7) calcule l'âge de l'usager (colonne 1 - colonne 4)\n",
    "8) classe chaque usager dans une tranche d'âge de 10 ans \n",
    "9) groupe en fonction de la tranche d'âge\n",
    "10) compte le nombre de morts dans chaque tranche d'âge\n",
    "11) trie en fonction de l'âge"
   ]
  },
  {
   "cell_type": "code",
   "execution_count": 7,
   "metadata": {},
   "outputs": [],
   "source": [
    "def nb_morts(annee,sexe):\n",
    "    \"\"\" compte le nombre de morts par tranche d'âge de 10 ans et par sexe\"\"\"\n",
    "    \n",
    "    return rdd_usg\\\n",
    "    .filter(lambda t: t != head_usg)\\\n",
    "    .map(lambda t: [t.split(',')[i] for i in [0,3,4,10]])\\\n",
    "    .filter(lambda t: t[0][:4] == str(annee))\\\n",
    "    .filter(lambda t: t[1] == '2')\\\n",
    "    .filter(lambda t: t[2] == str(sexe))\\\n",
    "    .filter(lambda t: (  t[3] != ''))\\\n",
    "    .map(lambda t: int(t[0][:4])-int(t[3]))\\\n",
    "    .map(lambda t: \"{0}0-{0}9\".format(t//10) if t < 90 else \"90 ans et +\")\\\n",
    "    .groupBy(lambda t:t)\\\n",
    "    .mapValues(len)\\\n",
    "    .sortByKey()"
   ]
  },
  {
   "cell_type": "code",
   "execution_count": 8,
   "metadata": {},
   "outputs": [
    {
     "name": "stderr",
     "output_type": "stream",
     "text": [
      "                                                                                \r"
     ]
    },
    {
     "data": {
      "text/plain": [
       "[('00-09', 34),\n",
       " ('10-19', 201),\n",
       " ('20-29', 582),\n",
       " ('30-39', 395),\n",
       " ('40-49', 361),\n",
       " ('50-59', 364),\n",
       " ('60-69', 261),\n",
       " ('70-79', 196),\n",
       " ('80-89', 174),\n",
       " ('90 ans et +', 47)]"
      ]
     },
     "execution_count": 8,
     "metadata": {},
     "output_type": "execute_result"
    }
   ],
   "source": [
    "nb_morts(2018,1).collect()"
   ]
  },
  {
   "cell_type": "markdown",
   "metadata": {},
   "source": [
    "##### Jointure du nombre de morts chez les femmes et chez les hommes "
   ]
  },
  {
   "cell_type": "markdown",
   "metadata": {},
   "source": [
    "Il s'agit ici de lier le nombre de morts en une même année chez les hommes et les femmes pour faire des comparaisons.\n",
    "1) jointure de deux rdd avec join\n",
    "2) trie en fonction de la tranche d'âge\n",
    "3) rend un tuple avec la tranche d'âge, le nb de morts chez les hommes, le nb de morts chez les femmes (ex: ('10-19', '201', '54'))\n",
    "4) conversion en data frame et en pandas \n",
    "5) indexation du dafaframe par la tranche d'âge\n",
    "6) représentation avec un barplot"
   ]
  },
  {
   "cell_type": "code",
   "execution_count": 9,
   "metadata": {},
   "outputs": [],
   "source": [
    "plt.style.use('ggplot')\n",
    "def mortalite_selon_age_sexe(annee):\n",
    "    df = nb_morts(annee, 1).join(nb_morts(annee,2))\\\n",
    "    .sortByKey()\\\n",
    "    .map(lambda x: (x[0], x[1][0], x[1][1]))\\\n",
    "    .toDF()\\\n",
    "    .toPandas()\\\n",
    "    .set_index('_1')\n",
    "    df.plot(kind = 'bar', title = f\"Nombre de morts sur les routes en {annee} par tranche d'âges de 10 et par sexe\", figsize = (12,6), rot = 30).set_xlabel(None)\n",
    "    plt.legend(['Hommes', 'Femmes'])"
   ]
  },
  {
   "cell_type": "markdown",
   "metadata": {},
   "source": [
    "Exemple avec l'année 2017"
   ]
  },
  {
   "cell_type": "code",
   "execution_count": 10,
   "metadata": {},
   "outputs": [
    {
     "name": "stderr",
     "output_type": "stream",
     "text": [
      "                                                                                \r"
     ]
    },
    {
     "data": {
      "image/png": "[encoded data removed]",
      "text/plain": [
       "<Figure size 864x432 with 1 Axes>"
      ]
     },
     "metadata": {
      "needs_background": "light"
     },
     "output_type": "display_data"
    }
   ],
   "source": [
    "mortalite_selon_age_sexe(2017)"
   ]
  },
  {
   "cell_type": "markdown",
   "metadata": {},
   "source": [
    "Exemple avec l'année 2013"
   ]
  },
  {
   "cell_type": "code",
   "execution_count": 11,
   "metadata": {},
   "outputs": [
    {
     "name": "stderr",
     "output_type": "stream",
     "text": [
      "                                                                                \r"
     ]
    },
    {
     "data": {
      "image/png": "[encoded data removed]",
      "text/plain": [
       "<Figure size 864x432 with 1 Axes>"
      ]
     },
     "metadata": {
      "needs_background": "light"
     },
     "output_type": "display_data"
    }
   ],
   "source": [
    "mortalite_selon_age_sexe(2013)"
   ]
  },
  {
   "cell_type": "markdown",
   "metadata": {},
   "source": [
    "**Conclusion**: On remarque que les tranches d'âge les plus à risque d'être touchés par les accidents mortels sont les hommes entre 20 et 30 ans. \\\n",
    "Chez les femmes, le risque d'accidents mortels augment petit à petit à partir de 30 ans et se rapproche au risque d'accidents mortels des hommes à partir de 70 ans."
   ]
  },
  {
   "cell_type": "markdown",
   "metadata": {},
   "source": [
    "# Accidents sur différents type de route et de luminosité hors jour, exprimé en fonction du mois de l'année\n"
   ]
  },
  {
   "cell_type": "markdown",
   "metadata": {},
   "source": [
    "Filtrage des accidents en fonction du type de lumière et du mois"
   ]
  },
  {
   "cell_type": "markdown",
   "metadata": {},
   "source": [
    "1) Séléction des colonnes mois et lumière\n",
    "2) enlève tous les accidents en plein jour \n",
    "3) format (Num_Acc, (mois, lum))"
   ]
  },
  {
   "cell_type": "code",
   "execution_count": 12,
   "metadata": {},
   "outputs": [],
   "source": [
    "crct_lum = rdd_crct\\\n",
    "    .filter(lambda x: (x != head_crct))\\\n",
    "    .map(lambda x: [x.split(',')[i] for i in [0,2,5]])\\\n",
    "    .filter(lambda x: (x[2] != '1'))\\\n",
    "    .map(lambda t: [t[0],(t[1],t[2])])"
   ]
  },
  {
   "cell_type": "markdown",
   "metadata": {},
   "source": [
    "Filtrage du lieu en fonction du type de la route "
   ]
  },
  {
   "cell_type": "code",
   "execution_count": 13,
   "metadata": {},
   "outputs": [],
   "source": [
    "lieux_cat = rdd_lieux\\\n",
    "    .filter(lambda x: (x != head_lieux))\\\n",
    "    .map(lambda x: [x.split(',')[i] for i in [0,1]])"
   ]
  },
  {
   "cell_type": "markdown",
   "metadata": {},
   "source": [
    "Pour que l'étude soit plus intéressante, je décide de regrouper toutes les catégories de routes hors autoroute, route nationale, départementale, communale.\n",
    "Je les affecte à la valeur 7"
   ]
  },
  {
   "cell_type": "code",
   "execution_count": 14,
   "metadata": {},
   "outputs": [],
   "source": [
    "lieux_tiers = lieux_cat\\\n",
    "    .filter(lambda x:(x[1] == '5') | (x[1] == '6') | (x[1] == '9'))\\\n",
    "    .map(lambda x: [x[0], '7'])"
   ]
  },
  {
   "cell_type": "markdown",
   "metadata": {},
   "source": [
    "Cela implique qu'il faut retirer ces routes dans le rdd principal"
   ]
  },
  {
   "cell_type": "markdown",
   "metadata": {},
   "source": [
    "Filtrage des lieux principales"
   ]
  },
  {
   "cell_type": "code",
   "execution_count": 15,
   "metadata": {},
   "outputs": [],
   "source": [
    "lieux = lieux_cat\\\n",
    "    .filter(lambda x:x[1] != '5')\\\n",
    "    .filter(lambda x:x[1] != '6')\\\n",
    "    .filter(lambda x:x[1] != '9')"
   ]
  },
  {
   "cell_type": "markdown",
   "metadata": {},
   "source": [
    "Assemblage des deux lieux "
   ]
  },
  {
   "cell_type": "code",
   "execution_count": 16,
   "metadata": {},
   "outputs": [],
   "source": [
    "lieux_cat = lieux.union(lieux_tiers)"
   ]
  },
  {
   "cell_type": "markdown",
   "metadata": {},
   "source": [
    "Jointure des deux rdd et filtrage de l'information demandé:\n",
    "- Groupe en fonction du mois, du type de lumière et du type de route\n",
    "- trie en fonction du mois \n",
    "- retourne le nombre d'accidents de chaque mois en fonction de la lumière ou du type de route"
   ]
  },
  {
   "cell_type": "code",
   "execution_count": 17,
   "metadata": {},
   "outputs": [
    {
     "name": "stderr",
     "output_type": "stream",
     "text": [
      "                                                                                \r"
     ]
    }
   ],
   "source": [
    "df = crct_lum\\\n",
    "    .join(lieux_cat)\\\n",
    "    .map(lambda x: (int(x[1][0][0]), x[1][0][1], x[1][1]))\\\n",
    "    .groupBy(lambda x: (x[0],x[1],x[2]))\\\n",
    "    .sortByKey()\\\n",
    "    .mapValues(len)\\\n",
    "    .map(lambda h: (h[0][0],h[0][1],h[0][2],h[1]))\\\n",
    "    .toDF()\\\n",
    "    .toPandas()\\\n",
    "    .set_index('_1')"
   ]
  },
  {
   "cell_type": "code",
   "execution_count": 18,
   "metadata": {},
   "outputs": [],
   "source": [
    "df = df.rename(columns={'_1': 'Mois', '_2': \"Conditions d'éclairage\", '_3': \"Catégorie de route\", '_4': \"Nombre d'accidents\"})\n",
    "sns.set_theme()"
   ]
  },
  {
   "cell_type": "code",
   "execution_count": 19,
   "metadata": {},
   "outputs": [
    {
     "data": {
      "text/html": [
       "<div>\n",
       "<style scoped>\n",
       "    .dataframe tbody tr th:only-of-type {\n",
       "        vertical-align: middle;\n",
       "    }\n",
       "\n",
       "    .dataframe tbody tr th {\n",
       "        vertical-align: top;\n",
       "    }\n",
       "\n",
       "    .dataframe thead th {\n",
       "        text-align: right;\n",
       "    }\n",
       "</style>\n",
       "<table border=\"1\" class=\"dataframe\">\n",
       "  <thead>\n",
       "    <tr style=\"text-align: right;\">\n",
       "      <th></th>\n",
       "      <th>Conditions d'éclairage</th>\n",
       "      <th>Catégorie de route</th>\n",
       "      <th>Nombre d'accidents</th>\n",
       "    </tr>\n",
       "    <tr>\n",
       "      <th>_1</th>\n",
       "      <th></th>\n",
       "      <th></th>\n",
       "      <th></th>\n",
       "    </tr>\n",
       "  </thead>\n",
       "  <tbody>\n",
       "    <tr>\n",
       "      <th>12</th>\n",
       "      <td>5</td>\n",
       "      <td>1</td>\n",
       "      <td>327</td>\n",
       "    </tr>\n",
       "    <tr>\n",
       "      <th>12</th>\n",
       "      <td>5</td>\n",
       "      <td>2</td>\n",
       "      <td>491</td>\n",
       "    </tr>\n",
       "    <tr>\n",
       "      <th>12</th>\n",
       "      <td>5</td>\n",
       "      <td>3</td>\n",
       "      <td>2978</td>\n",
       "    </tr>\n",
       "    <tr>\n",
       "      <th>12</th>\n",
       "      <td>5</td>\n",
       "      <td>4</td>\n",
       "      <td>7866</td>\n",
       "    </tr>\n",
       "    <tr>\n",
       "      <th>12</th>\n",
       "      <td>5</td>\n",
       "      <td>7</td>\n",
       "      <td>276</td>\n",
       "    </tr>\n",
       "  </tbody>\n",
       "</table>\n",
       "</div>"
      ],
      "text/plain": [
       "   Conditions d'éclairage Catégorie de route  Nombre d'accidents\n",
       "_1                                                              \n",
       "12                      5                  1                 327\n",
       "12                      5                  2                 491\n",
       "12                      5                  3                2978\n",
       "12                      5                  4                7866\n",
       "12                      5                  7                 276"
      ]
     },
     "execution_count": 19,
     "metadata": {},
     "output_type": "execute_result"
    }
   ],
   "source": [
    "df.tail()"
   ]
  },
  {
   "cell_type": "markdown",
   "metadata": {},
   "source": [
    "Représentation avec seaborn"
   ]
  },
  {
   "cell_type": "code",
   "execution_count": 20,
   "metadata": {},
   "outputs": [
    {
     "data": {
      "image/png": "[encoded data removed]",
      "text/plain": [
       "<Figure size 1872x432 with 2 Axes>"
      ]
     },
     "metadata": {},
     "output_type": "display_data"
    }
   ],
   "source": [
    "fig, axes = plt.subplots(1,2, figsize = (26,6))\n",
    "#route\n",
    "sns.lineplot(ax = axes[0], data = df, x = '_1', y = \"Nombre d'accidents\", hue = 'Catégorie de route', errorbar= None, lw= 2).set_xticks(range(1,13,1))\n",
    "axes[0].legend(labels=['Autoroute','Nationale', 'Départementale', 'Communale', 'Autre'])\n",
    "axes[0].set_xlabel('Mois')\n",
    "\n",
    "#lumière\n",
    "sns.lineplot(ax = axes[1], data = df, x = '_1', y = \"Nombre d'accidents\", hue = \"Conditions d'éclairage\", errorbar= None, lw = 2).set_xticks(range(1,13,1))\n",
    "axes[1].legend(labels=['Crépuscule/Aube','Sans éclairage', 'Avec éclairage non allumé', 'Avec éclairage allumé'])\n",
    "axes[1].set_xlabel('Mois');"
   ]
  },
  {
   "cell_type": "markdown",
   "metadata": {},
   "source": [
    "**Conclusion**:\n",
    "Le nombre d'accidents durant la nuit est multiplié par de aôut à octobre, celà s'explique notamment par l'augmentation des gens qui circulent(notamment avec la fin des vacances et la rentrée) mais aussi le changemet d'horaire qui implique qu'on roule forcément sans lumière pour rentrer après le travail. \\\n",
    "Concernant le type de route, les accidents se font plus sur les routes départementales et communales. Le nombre d'accidents sur les autoroutes et les routes nationales est moins élevé, car ces derniers sont plus sécurisés que les autres.\n"
   ]
  },
  {
   "cell_type": "markdown",
   "metadata": {},
   "source": [
    "# Répartition de la gravité de l'accident en fonction du type de choc"
   ]
  },
  {
   "cell_type": "markdown",
   "metadata": {},
   "source": [
    "On veut exprimer la gravité de l'accident en fonction du type de choc subi par le véhicule lors de l'accident. \\\n",
    "Pour cela, on lie les rdd usagers et véhicules, par l'intermédiaire des colonnes gravité et choc. \\\n",
    "On extrait donc la colonne gravité avec un map split. On fait de même pour choc, et on enlève les valeurs nulles avec filter. "
   ]
  },
  {
   "cell_type": "code",
   "execution_count": 21,
   "metadata": {},
   "outputs": [
    {
     "name": "stderr",
     "output_type": "stream",
     "text": [
      "                                                                                \r"
     ]
    }
   ],
   "source": [
    "gravite = rdd_usg\\\n",
    "    .filter(lambda x: (x != head_usg))\\\n",
    "    .map(lambda x: [x.split(',')[i] for i in [0,3]])\n",
    "choc = rdd_vhc\\\n",
    "    .filter(lambda x: (x != head_vhc))\\\n",
    "    .map(lambda x: [x.split(',')[i] for i in [0,6]])\\\n",
    "    .filter(lambda x: x[1] != '0')\n",
    "rdd_grv_choc = gravite\\\n",
    "    .join(choc)\\\n",
    "    .sortByKey()"
   ]
  },
  {
   "cell_type": "code",
   "execution_count": 22,
   "metadata": {},
   "outputs": [
    {
     "name": "stderr",
     "output_type": "stream",
     "text": [
      "                                                                                \r"
     ]
    },
    {
     "data": {
      "text/plain": [
       "[('201100000001', ('3', '1')),\n",
       " ('201100000001', ('3', '6')),\n",
       " ('201100000001', ('1', '1')),\n",
       " ('201100000001', ('1', '6')),\n",
       " ('201100000002', ('1', '2'))]"
      ]
     },
     "execution_count": 22,
     "metadata": {},
     "output_type": "execute_result"
    }
   ],
   "source": [
    "rdd_grv_choc.take(5)"
   ]
  },
  {
   "cell_type": "markdown",
   "metadata": {},
   "source": [
    "Initiation une liste qui contient les points de choc initiaux"
   ]
  },
  {
   "cell_type": "code",
   "execution_count": 23,
   "metadata": {},
   "outputs": [],
   "source": [
    "liste_chocs = {'1':'Avant', '2':'Avant droit', '3':'Avant gauche', '4':'Arrière', '5':'Arrière droit', '6':'Arrière gauche', '7':'Côté droit', '8':'Côté gauche', '9':'Chocs mutliples'}"
   ]
  },
  {
   "cell_type": "markdown",
   "metadata": {},
   "source": [
    "Création d'une fonction type_choc_grav qui prend en argument le type de choc et retourne le nombre d'accidents par gravité:\n",
    "1) Prend les colonnes (gravité, choc) et filtre en fonction du type de choc\n",
    "2) Groupe en fonction du type de gravité\n",
    "3) Compte le nombre d'accidents par type de gravité, et trie par type de gravité\n",
    "4) Renomme le numéro du type de choc par le nom du type de choc"
   ]
  },
  {
   "cell_type": "code",
   "execution_count": 24,
   "metadata": {},
   "outputs": [],
   "source": [
    "def type_choc_grav(key,value):\n",
    "    return rdd_grv_choc\\\n",
    "        .map(lambda x: [x[1][0], x[1][1]]).filter(lambda x: x[1] == key)\\\n",
    "        .groupBy(lambda x: x[0])\\\n",
    "        .mapValues(len).sortByKey()\\\n",
    "        .map(lambda x: (value,x[1]))"
   ]
  },
  {
   "cell_type": "code",
   "execution_count": 25,
   "metadata": {},
   "outputs": [
    {
     "name": "stderr",
     "output_type": "stream",
     "text": [
      "                                                                                \r"
     ]
    },
    {
     "data": {
      "text/plain": [
       "[('Avant', 310262), ('Avant', 18961), ('Avant', 146477), ('Avant', 259008)]"
      ]
     },
     "execution_count": 25,
     "metadata": {},
     "output_type": "execute_result"
    }
   ],
   "source": [
    "type_choc_grav('1', 'Avant').collect()"
   ]
  },
  {
   "cell_type": "markdown",
   "metadata": {},
   "source": [
    "Pour tous les types de choc, j'execute la fonction type_choc_grav"
   ]
  },
  {
   "cell_type": "code",
   "execution_count": 26,
   "metadata": {},
   "outputs": [
    {
     "name": "stderr",
     "output_type": "stream",
     "text": [
      "                                                                                \r"
     ]
    }
   ],
   "source": [
    "data_choc = [type_choc_grav(cle,valeur) for cle, valeur in liste_chocs.items()]"
   ]
  },
  {
   "cell_type": "markdown",
   "metadata": {},
   "source": [
    "Rassemblement de toutes les données avec la fonction union"
   ]
  },
  {
   "cell_type": "code",
   "execution_count": 27,
   "metadata": {},
   "outputs": [
    {
     "name": "stderr",
     "output_type": "stream",
     "text": [
      "                                                                                \r"
     ]
    },
    {
     "data": {
      "text/plain": [
       "[('Avant', 310262),\n",
       " ('Avant', 18961),\n",
       " ('Avant', 146477),\n",
       " ('Avant', 259008),\n",
       " ('Avant droit', 99793)]"
      ]
     },
     "execution_count": 27,
     "metadata": {},
     "output_type": "execute_result"
    }
   ],
   "source": [
    "rdd_choc = spark.sparkContext.union(data_choc)\n",
    "rdd_choc.take(5)"
   ]
  },
  {
   "cell_type": "markdown",
   "metadata": {},
   "source": [
    "Réduction en fonction des keys pour obtenir chaque nombre d'accidents de chaque type de gravité, sachant que les types de gravité ont été trié et sont de l'ordre (1,2,3,4) \\\n",
    "On transpose le dataframe pour la représentation"
   ]
  },
  {
   "cell_type": "code",
   "execution_count": 28,
   "metadata": {},
   "outputs": [
    {
     "name": "stderr",
     "output_type": "stream",
     "text": [
      "                                                                                \r"
     ]
    }
   ],
   "source": [
    "data = rdd_choc\\\n",
    "    .reduceByKey(lambda a,b: [a,b])\\\n",
    "    .map(lambda a: (a[0], a[1][0][0][0], a[1][0][0][1], a[1][0][1], a[1][1])) \\\n",
    "    .toDF()\\\n",
    "    .toPandas()\\\n",
    "    .set_index('_1')\\\n",
    "    .T"
   ]
  },
  {
   "cell_type": "markdown",
   "metadata": {},
   "source": [
    "Obtention d'un data frame pandas "
   ]
  },
  {
   "cell_type": "code",
   "execution_count": 29,
   "metadata": {},
   "outputs": [
    {
     "data": {
      "text/html": [
       "<div>\n",
       "<style scoped>\n",
       "    .dataframe tbody tr th:only-of-type {\n",
       "        vertical-align: middle;\n",
       "    }\n",
       "\n",
       "    .dataframe tbody tr th {\n",
       "        vertical-align: top;\n",
       "    }\n",
       "\n",
       "    .dataframe thead th {\n",
       "        text-align: right;\n",
       "    }\n",
       "</style>\n",
       "<table border=\"1\" class=\"dataframe\">\n",
       "  <thead>\n",
       "    <tr style=\"text-align: right;\">\n",
       "      <th>_1</th>\n",
       "      <th>Gravité</th>\n",
       "      <th>Avant gauche</th>\n",
       "      <th>Avant droit</th>\n",
       "      <th>Arrière gauche</th>\n",
       "      <th>Chocs mutliples</th>\n",
       "      <th>Côté droit</th>\n",
       "      <th>Arrière</th>\n",
       "      <th>Avant</th>\n",
       "      <th>Côté gauche</th>\n",
       "      <th>Arrière droit</th>\n",
       "    </tr>\n",
       "  </thead>\n",
       "  <tbody>\n",
       "    <tr>\n",
       "      <th>_2</th>\n",
       "      <td>indemne</td>\n",
       "      <td>125080</td>\n",
       "      <td>99793</td>\n",
       "      <td>37674</td>\n",
       "      <td>11037</td>\n",
       "      <td>50910</td>\n",
       "      <td>133555</td>\n",
       "      <td>310262</td>\n",
       "      <td>62132</td>\n",
       "      <td>28788</td>\n",
       "    </tr>\n",
       "    <tr>\n",
       "      <th>_3</th>\n",
       "      <td>tué</td>\n",
       "      <td>8691</td>\n",
       "      <td>5355</td>\n",
       "      <td>1283</td>\n",
       "      <td>1481</td>\n",
       "      <td>2927</td>\n",
       "      <td>1969</td>\n",
       "      <td>18961</td>\n",
       "      <td>3270</td>\n",
       "      <td>763</td>\n",
       "    </tr>\n",
       "    <tr>\n",
       "      <th>_4</th>\n",
       "      <td>hospitalisé</td>\n",
       "      <td>61812</td>\n",
       "      <td>43280</td>\n",
       "      <td>11458</td>\n",
       "      <td>7655</td>\n",
       "      <td>21595</td>\n",
       "      <td>23132</td>\n",
       "      <td>146477</td>\n",
       "      <td>26138</td>\n",
       "      <td>8300</td>\n",
       "    </tr>\n",
       "    <tr>\n",
       "      <th>_5</th>\n",
       "      <td>blessé léger</td>\n",
       "      <td>96716</td>\n",
       "      <td>75768</td>\n",
       "      <td>25447</td>\n",
       "      <td>11200</td>\n",
       "      <td>41759</td>\n",
       "      <td>96542</td>\n",
       "      <td>259008</td>\n",
       "      <td>48756</td>\n",
       "      <td>19705</td>\n",
       "    </tr>\n",
       "  </tbody>\n",
       "</table>\n",
       "</div>"
      ],
      "text/plain": [
       "_1       Gravité  Avant gauche  Avant droit  Arrière gauche  Chocs mutliples  \\\n",
       "_2       indemne        125080        99793           37674            11037   \n",
       "_3           tué          8691         5355            1283             1481   \n",
       "_4   hospitalisé         61812        43280           11458             7655   \n",
       "_5  blessé léger         96716        75768           25447            11200   \n",
       "\n",
       "_1  Côté droit  Arrière   Avant  Côté gauche  Arrière droit  \n",
       "_2       50910   133555  310262        62132          28788  \n",
       "_3        2927     1969   18961         3270            763  \n",
       "_4       21595    23132  146477        26138           8300  \n",
       "_5       41759    96542  259008        48756          19705  "
      ]
     },
     "execution_count": 29,
     "metadata": {},
     "output_type": "execute_result"
    }
   ],
   "source": [
    "data.insert(0,'Gravité', ['indemne','tué','hospitalisé','blessé léger'])\n",
    "data"
   ]
  },
  {
   "cell_type": "code",
   "execution_count": 30,
   "metadata": {},
   "outputs": [
    {
     "data": {
      "text/html": [
       "<div>\n",
       "<style scoped>\n",
       "    .dataframe tbody tr th:only-of-type {\n",
       "        vertical-align: middle;\n",
       "    }\n",
       "\n",
       "    .dataframe tbody tr th {\n",
       "        vertical-align: top;\n",
       "    }\n",
       "\n",
       "    .dataframe thead th {\n",
       "        text-align: right;\n",
       "    }\n",
       "</style>\n",
       "<table border=\"1\" class=\"dataframe\">\n",
       "  <thead>\n",
       "    <tr style=\"text-align: right;\">\n",
       "      <th></th>\n",
       "      <th>Gravité</th>\n",
       "      <th>Avant gauche</th>\n",
       "      <th>Avant droit</th>\n",
       "      <th>Arrière gauche</th>\n",
       "      <th>Chocs mutliples</th>\n",
       "      <th>Côté droit</th>\n",
       "      <th>Arrière</th>\n",
       "      <th>Avant</th>\n",
       "      <th>Côté gauche</th>\n",
       "      <th>Arrière droit</th>\n",
       "    </tr>\n",
       "  </thead>\n",
       "  <tbody>\n",
       "    <tr>\n",
       "      <th>_2</th>\n",
       "      <td>indemne</td>\n",
       "      <td>125080</td>\n",
       "      <td>99793</td>\n",
       "      <td>37674</td>\n",
       "      <td>11037</td>\n",
       "      <td>50910</td>\n",
       "      <td>133555</td>\n",
       "      <td>310262</td>\n",
       "      <td>62132</td>\n",
       "      <td>28788</td>\n",
       "    </tr>\n",
       "    <tr>\n",
       "      <th>_3</th>\n",
       "      <td>tué</td>\n",
       "      <td>8691</td>\n",
       "      <td>5355</td>\n",
       "      <td>1283</td>\n",
       "      <td>1481</td>\n",
       "      <td>2927</td>\n",
       "      <td>1969</td>\n",
       "      <td>18961</td>\n",
       "      <td>3270</td>\n",
       "      <td>763</td>\n",
       "    </tr>\n",
       "    <tr>\n",
       "      <th>_4</th>\n",
       "      <td>hospitalisé</td>\n",
       "      <td>61812</td>\n",
       "      <td>43280</td>\n",
       "      <td>11458</td>\n",
       "      <td>7655</td>\n",
       "      <td>21595</td>\n",
       "      <td>23132</td>\n",
       "      <td>146477</td>\n",
       "      <td>26138</td>\n",
       "      <td>8300</td>\n",
       "    </tr>\n",
       "    <tr>\n",
       "      <th>_5</th>\n",
       "      <td>blessé léger</td>\n",
       "      <td>96716</td>\n",
       "      <td>75768</td>\n",
       "      <td>25447</td>\n",
       "      <td>11200</td>\n",
       "      <td>41759</td>\n",
       "      <td>96542</td>\n",
       "      <td>259008</td>\n",
       "      <td>48756</td>\n",
       "      <td>19705</td>\n",
       "    </tr>\n",
       "  </tbody>\n",
       "</table>\n",
       "</div>"
      ],
      "text/plain": [
       "         Gravité  Avant gauche  Avant droit  Arrière gauche  Chocs mutliples  \\\n",
       "_2       indemne        125080        99793           37674            11037   \n",
       "_3           tué          8691         5355            1283             1481   \n",
       "_4   hospitalisé         61812        43280           11458             7655   \n",
       "_5  blessé léger         96716        75768           25447            11200   \n",
       "\n",
       "    Côté droit  Arrière   Avant  Côté gauche  Arrière droit  \n",
       "_2       50910   133555  310262        62132          28788  \n",
       "_3        2927     1969   18961         3270            763  \n",
       "_4       21595    23132  146477        26138           8300  \n",
       "_5       41759    96542  259008        48756          19705  "
      ]
     },
     "execution_count": 30,
     "metadata": {},
     "output_type": "execute_result"
    }
   ],
   "source": [
    "data.to_csv('accidents_chocs.csv')\n",
    "df_acc = pd.read_csv('accidents_chocs.csv', index_col=0)\n",
    "df_acc"
   ]
  },
  {
   "cell_type": "markdown",
   "metadata": {},
   "source": [
    "Visualisation avvec plolty dans le fichier grav_dash.py\n",
    "(installation nécessaire de plotly et de Dash)"
   ]
  }
 ],
 "metadata": {
  "kernelspec": {
   "display_name": "Python 3.10.8 64-bit (microsoft store)",
   "language": "python",
   "name": "python3"
  },
  "language_info": {
   "codemirror_mode": {
    "name": "ipython",
    "version": 3
   },
   "file_extension": ".py",
   "mimetype": "text/x-python",
   "name": "python",
   "nbconvert_exporter": "python",
   "pygments_lexer": "ipython3",
   "version": "3.10.8"
  },
  "orig_nbformat": 4,
  "vscode": {
   "interpreter": {
    "hash": "4b6137656c637cfcd8c619cea37b7e5d437509bf7bfd5c4959c75b141c6a5df8"
   }
  }
 },
 "nbformat": 4,
 "nbformat_minor": 2
}
